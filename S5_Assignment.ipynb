{
  "nbformat": 4,
  "nbformat_minor": 0,
  "metadata": {
    "colab": {
      "name": "S5_Assignment.ipynb",
      "provenance": [],
      "collapsed_sections": [],
      "include_colab_link": true
    },
    "kernelspec": {
      "name": "python3",
      "display_name": "Python 3"
    }
  },
  "cells": [
    {
      "cell_type": "markdown",
      "metadata": {
        "id": "view-in-github",
        "colab_type": "text"
      },
      "source": [
        "<a href=\"https://colab.research.google.com/github/Hameeda1512/S5-Assignment-Solutions/blob/main/S5_Assignment.ipynb\" target=\"_parent\"><img src=\"https://colab.research.google.com/assets/colab-badge.svg\" alt=\"Open In Colab\"/></a>"
      ]
    },
    {
      "cell_type": "code",
      "metadata": {
        "id": "iFRAiIeVu_fe"
      },
      "source": [
        "from __future__ import print_function\r\n",
        "import torch\r\n",
        "import torch.nn as nn\r\n",
        "import torch.nn.functional as F\r\n",
        "import torch.optim as optim\r\n",
        "from torchvision import datasets, transforms\r\n"
      ],
      "execution_count": null,
      "outputs": []
    },
    {
      "cell_type": "code",
      "metadata": {
        "id": "iQL0N3v7vCE3"
      },
      "source": [
        "# Model paramters: 11730, accuray: >99.4\r\n",
        "\r\n",
        "import torch.nn as nn\r\n",
        "class Net(nn.Module):\r\n",
        "    def __init__(self):\r\n",
        "        super(Net, self).__init__()\r\n",
        "        \r\n",
        "        self.conv = nn.Sequential(\r\n",
        "            nn.Conv2d(1, 4, 3, padding=1),\r\n",
        "            nn.ReLU(),\r\n",
        "            # nn.Conv2d(4, 16, 3, padding=1),\r\n",
        "            # nn.ReLU(),\r\n",
        "            nn.BatchNorm2d(4),\r\n",
        "            nn.MaxPool2d(2,2),\r\n",
        "            nn.Dropout(0.50),\r\n",
        "            nn.Conv2d(4, 16, 3, padding=1),\r\n",
        "            nn.ReLU(),\r\n",
        "            # nn.Conv2d(16, 32, 3, padding=1),\r\n",
        "            # nn.ReLU(),\r\n",
        "            nn.BatchNorm2d(16),\r\n",
        "            nn.MaxPool2d(2,2),\r\n",
        "            nn.Dropout(0.50),\r\n",
        "            nn.Conv2d(16, 32, 3),\r\n",
        "            nn.ReLU(),\r\n",
        "            nn.Conv2d(32, 10, 3),\r\n",
        "            nn.AvgPool2d(3, 2),\r\n",
        "        )\r\n",
        " \r\n",
        "    def forward(self, x):\r\n",
        "        x = self.conv(x)\r\n",
        "        \r\n",
        "        x = x.view(-1, 10)\r\n",
        "        x = F.log_softmax(x, dim=1)\r\n",
        "        return x\r\n"
      ],
      "execution_count": null,
      "outputs": []
    },
    {
      "cell_type": "code",
      "metadata": {
        "id": "U6-XwzsCvYyk",
        "colab": {
          "base_uri": "https://localhost:8080/"
        },
        "outputId": "dd124cd4-19c1-4306-9672-8e5a592f93a6"
      },
      "source": [
        "from torchsummary import summary\r\n",
        "use_cuda = torch.cuda.is_available()\r\n",
        "device = torch.device(\"cuda\" if use_cuda else \"cpu\")\r\n",
        "model = Net().to(device)\r\n",
        "summary(model, input_size=(1, 28, 28))"
      ],
      "execution_count": null,
      "outputs": [
        {
          "output_type": "stream",
          "text": [
            "----------------------------------------------------------------\n",
            "        Layer (type)               Output Shape         Param #\n",
            "================================================================\n",
            "            Conv2d-1            [-1, 4, 28, 28]              40\n",
            "              ReLU-2            [-1, 4, 28, 28]               0\n",
            "       BatchNorm2d-3            [-1, 4, 28, 28]               8\n",
            "         MaxPool2d-4            [-1, 4, 14, 14]               0\n",
            "           Dropout-5            [-1, 4, 14, 14]               0\n",
            "            Conv2d-6           [-1, 16, 14, 14]             592\n",
            "              ReLU-7           [-1, 16, 14, 14]               0\n",
            "       BatchNorm2d-8           [-1, 16, 14, 14]              32\n",
            "         MaxPool2d-9             [-1, 16, 7, 7]               0\n",
            "          Dropout-10             [-1, 16, 7, 7]               0\n",
            "           Conv2d-11             [-1, 32, 5, 5]           4,640\n",
            "             ReLU-12             [-1, 32, 5, 5]               0\n",
            "           Conv2d-13             [-1, 10, 3, 3]           2,890\n",
            "        AvgPool2d-14             [-1, 10, 1, 1]               0\n",
            "================================================================\n",
            "Total params: 8,202\n",
            "Trainable params: 8,202\n",
            "Non-trainable params: 0\n",
            "----------------------------------------------------------------\n",
            "Input size (MB): 0.00\n",
            "Forward/backward pass size (MB): 0.18\n",
            "Params size (MB): 0.03\n",
            "Estimated Total Size (MB): 0.21\n",
            "----------------------------------------------------------------\n"
          ],
          "name": "stdout"
        }
      ]
    },
    {
      "cell_type": "code",
      "metadata": {
        "id": "o6Eon1a3viXs"
      },
      "source": [
        "torch.manual_seed(1)\r\n",
        "batch_size = 128\r\n",
        " \r\n",
        "kwargs = {'num_workers': 1, 'pin_memory': True} if use_cuda else {}\r\n",
        "train_loader = torch.utils.data.DataLoader(\r\n",
        "    datasets.MNIST('../data', train=True, download=True,\r\n",
        "                    transform=transforms.Compose([\r\n",
        "                        #transforms.RandomRotation(30),\r\n",
        "                        transforms.RandomAffine(degrees=20, translate=(0.1,0.1), scale=(0.9, 1.1)),\r\n",
        "                        transforms.ColorJitter(brightness=0.2, contrast=0.2),\r\n",
        "                        transforms.ToTensor(),\r\n",
        "                        transforms.Normalize((0.1307), (0.3081))\r\n",
        "                    ])),\r\n",
        "    batch_size=batch_size, shuffle=True, **kwargs)\r\n",
        "test_loader = torch.utils.data.DataLoader(\r\n",
        "    datasets.MNIST('../data', train=False, transform=transforms.Compose([\r\n",
        "                        transforms.ToTensor(),\r\n",
        "                        transforms.Normalize((0.1307,), (0.3081,))\r\n",
        "                    ])),\r\n",
        "    batch_size=batch_size, shuffle=True, **kwargs)"
      ],
      "execution_count": null,
      "outputs": []
    },
    {
      "cell_type": "code",
      "metadata": {
        "id": "oqFsdvn7vjvB"
      },
      "source": [
        "from tqdm import tqdm\r\n",
        "def train(model, device, train_loader, optimizer, epoch):\r\n",
        "    model.train()\r\n",
        "    pbar = tqdm(train_loader)\r\n",
        " \r\n",
        "    for batch_idx, (data, target) in enumerate(pbar):\r\n",
        "        data, target = data.to(device), target.to(device)\r\n",
        "        optimizer.zero_grad()\r\n",
        "        output = model(data)\r\n",
        "        loss = F.nll_loss(output, target)\r\n",
        "        loss.backward()\r\n",
        "        optimizer.step()\r\n",
        "        pbar.set_description(desc= f'loss={loss.item()} batch_id={batch_idx}')\r\n",
        " \r\n",
        " \r\n",
        " \r\n",
        "def test(model, device, test_loader):\r\n",
        "    model.eval()\r\n",
        "    test_loss = 0\r\n",
        "    correct = 0\r\n",
        "    with torch.no_grad():\r\n",
        "        for data, target in test_loader:\r\n",
        "            data, target = data.to(device), target.to(device)\r\n",
        "            output = model(data)\r\n",
        "            test_loss += F.nll_loss(output, target, reduction='sum').item()  # sum up batch loss\r\n",
        "            pred = output.argmax(dim=1, keepdim=True)  # get the index of the max log-probability\r\n",
        "            correct += pred.eq(target.view_as(pred)).sum().item()\r\n",
        " \r\n",
        "    test_loss /= len(test_loader.dataset)\r\n",
        " \r\n",
        "    print('\\nTest set: Average loss: {:.4f}, Accuracy: {}/{} ({:.2f}%)\\n'.format(\r\n",
        "        test_loss, correct, len(test_loader.dataset),\r\n",
        "        100. * correct / len(test_loader.dataset)))\r\n",
        "    return test_loss"
      ],
      "execution_count": null,
      "outputs": []
    },
    {
      "cell_type": "code",
      "metadata": {
        "id": "dne8Ovcdvrzx",
        "colab": {
          "base_uri": "https://localhost:8080/"
        },
        "outputId": "98013b23-1800-4789-95b6-ec704ded9c80"
      },
      "source": [
        "import torch.optim as optim\r\n",
        " \r\n",
        "model = Net().to(device)\r\n",
        "# optimizer = optim.SGD(model.parameters(), lr=0.01, momentum=0.9)\r\n",
        "optimizer= optim.Adam(model.parameters(), lr= 0.01)\r\n",
        "scheduler = optim.lr_scheduler.ReduceLROnPlateau(optimizer, patience=2) # Learning rate scheduler with patience = 2\r\n",
        " \r\n",
        "for epoch in range(1, 15):\r\n",
        "    train(model, device, train_loader, optimizer, epoch)\r\n",
        "    test_loss = test(model, device, test_loader)\r\n",
        "\r\n",
        "    \r\n",
        "    print('Epoch-{0} lr: {1}'.format(epoch, optimizer.param_groups[0]['lr']))\r\n",
        "    scheduler.step(test_loss)"
      ],
      "execution_count": null,
      "outputs": [
        {
          "output_type": "stream",
          "text": [
            "loss=0.497786283493042 batch_id=468: 100%|██████████| 469/469 [01:11<00:00,  6.53it/s]\n",
            "loss=0.5424759387969971 batch_id=0:   0%|          | 1/469 [00:00<01:13,  6.35it/s]"
          ],
          "name": "stderr"
        },
        {
          "output_type": "stream",
          "text": [
            "\n",
            "Test set: Average loss: 0.1810, Accuracy: 9419/10000 (94.19%)\n",
            "\n",
            "Epoch-1 lr: 0.01\n"
          ],
          "name": "stdout"
        },
        {
          "output_type": "stream",
          "text": [
            "loss=0.43646571040153503 batch_id=468: 100%|██████████| 469/469 [01:11<00:00,  6.53it/s]\n",
            "loss=0.39778342843055725 batch_id=0:   0%|          | 1/469 [00:00<01:09,  6.69it/s]"
          ],
          "name": "stderr"
        },
        {
          "output_type": "stream",
          "text": [
            "\n",
            "Test set: Average loss: 0.1397, Accuracy: 9558/10000 (95.58%)\n",
            "\n",
            "Epoch-2 lr: 0.01\n"
          ],
          "name": "stdout"
        },
        {
          "output_type": "stream",
          "text": [
            "loss=0.37509849667549133 batch_id=468: 100%|██████████| 469/469 [01:11<00:00,  6.55it/s]\n",
            "loss=0.40838199853897095 batch_id=0:   0%|          | 1/469 [00:00<01:17,  6.06it/s]"
          ],
          "name": "stderr"
        },
        {
          "output_type": "stream",
          "text": [
            "\n",
            "Test set: Average loss: 0.1179, Accuracy: 9620/10000 (96.20%)\n",
            "\n",
            "Epoch-3 lr: 0.01\n"
          ],
          "name": "stdout"
        },
        {
          "output_type": "stream",
          "text": [
            "loss=0.607960045337677 batch_id=468: 100%|██████████| 469/469 [01:11<00:00,  6.54it/s]\n",
            "loss=0.42482855916023254 batch_id=0:   0%|          | 1/469 [00:00<01:26,  5.43it/s]"
          ],
          "name": "stderr"
        },
        {
          "output_type": "stream",
          "text": [
            "\n",
            "Test set: Average loss: 0.1156, Accuracy: 9620/10000 (96.20%)\n",
            "\n",
            "Epoch-4 lr: 0.01\n"
          ],
          "name": "stdout"
        },
        {
          "output_type": "stream",
          "text": [
            "loss=0.29874667525291443 batch_id=468: 100%|██████████| 469/469 [01:12<00:00,  6.51it/s]\n",
            "loss=0.29618769884109497 batch_id=0:   0%|          | 1/469 [00:00<01:09,  6.73it/s]"
          ],
          "name": "stderr"
        },
        {
          "output_type": "stream",
          "text": [
            "\n",
            "Test set: Average loss: 0.1032, Accuracy: 9659/10000 (96.59%)\n",
            "\n",
            "Epoch-5 lr: 0.01\n"
          ],
          "name": "stdout"
        },
        {
          "output_type": "stream",
          "text": [
            "loss=0.36906394362449646 batch_id=468: 100%|██████████| 469/469 [01:12<00:00,  6.46it/s]\n",
            "loss=0.4456689655780792 batch_id=0:   0%|          | 1/469 [00:00<01:11,  6.51it/s]"
          ],
          "name": "stderr"
        },
        {
          "output_type": "stream",
          "text": [
            "\n",
            "Test set: Average loss: 0.0885, Accuracy: 9698/10000 (96.98%)\n",
            "\n",
            "Epoch-6 lr: 0.01\n"
          ],
          "name": "stdout"
        },
        {
          "output_type": "stream",
          "text": [
            "loss=0.2869814336299896 batch_id=468: 100%|██████████| 469/469 [01:12<00:00,  6.50it/s]\n",
            "loss=0.4667769968509674 batch_id=0:   0%|          | 1/469 [00:00<01:10,  6.64it/s]"
          ],
          "name": "stderr"
        },
        {
          "output_type": "stream",
          "text": [
            "\n",
            "Test set: Average loss: 0.0913, Accuracy: 9699/10000 (96.99%)\n",
            "\n",
            "Epoch-7 lr: 0.01\n"
          ],
          "name": "stdout"
        },
        {
          "output_type": "stream",
          "text": [
            "loss=0.3334352672100067 batch_id=468: 100%|██████████| 469/469 [01:11<00:00,  6.52it/s]\n",
            "loss=0.39589059352874756 batch_id=0:   0%|          | 1/469 [00:00<01:08,  6.83it/s]"
          ],
          "name": "stderr"
        },
        {
          "output_type": "stream",
          "text": [
            "\n",
            "Test set: Average loss: 0.1092, Accuracy: 9635/10000 (96.35%)\n",
            "\n",
            "Epoch-8 lr: 0.01\n"
          ],
          "name": "stdout"
        },
        {
          "output_type": "stream",
          "text": [
            "loss=0.4496820867061615 batch_id=468: 100%|██████████| 469/469 [01:11<00:00,  6.55it/s]\n",
            "loss=0.2774465084075928 batch_id=0:   0%|          | 1/469 [00:00<01:09,  6.69it/s]"
          ],
          "name": "stderr"
        },
        {
          "output_type": "stream",
          "text": [
            "\n",
            "Test set: Average loss: 0.0948, Accuracy: 9694/10000 (96.94%)\n",
            "\n",
            "Epoch-9 lr: 0.01\n"
          ],
          "name": "stdout"
        },
        {
          "output_type": "stream",
          "text": [
            "loss=0.4702109098434448 batch_id=468: 100%|██████████| 469/469 [01:11<00:00,  6.55it/s]\n",
            "loss=0.3580113351345062 batch_id=0:   0%|          | 1/469 [00:00<01:12,  6.46it/s]"
          ],
          "name": "stderr"
        },
        {
          "output_type": "stream",
          "text": [
            "\n",
            "Test set: Average loss: 0.0809, Accuracy: 9729/10000 (97.29%)\n",
            "\n",
            "Epoch-10 lr: 0.001\n"
          ],
          "name": "stdout"
        },
        {
          "output_type": "stream",
          "text": [
            "loss=0.2616155445575714 batch_id=468: 100%|██████████| 469/469 [01:11<00:00,  6.55it/s]\n",
            "loss=0.2004685401916504 batch_id=0:   0%|          | 1/469 [00:00<01:09,  6.74it/s]"
          ],
          "name": "stderr"
        },
        {
          "output_type": "stream",
          "text": [
            "\n",
            "Test set: Average loss: 0.0727, Accuracy: 9765/10000 (97.65%)\n",
            "\n",
            "Epoch-11 lr: 0.001\n"
          ],
          "name": "stdout"
        },
        {
          "output_type": "stream",
          "text": [
            "loss=0.34427738189697266 batch_id=468: 100%|██████████| 469/469 [01:11<00:00,  6.54it/s]\n",
            "loss=0.32740509510040283 batch_id=0:   0%|          | 1/469 [00:00<01:09,  6.71it/s]"
          ],
          "name": "stderr"
        },
        {
          "output_type": "stream",
          "text": [
            "\n",
            "Test set: Average loss: 0.0767, Accuracy: 9739/10000 (97.39%)\n",
            "\n",
            "Epoch-12 lr: 0.001\n"
          ],
          "name": "stdout"
        },
        {
          "output_type": "stream",
          "text": [
            "loss=0.3663412630558014 batch_id=468: 100%|██████████| 469/469 [01:11<00:00,  6.53it/s]\n",
            "loss=0.3311799466609955 batch_id=0:   0%|          | 1/469 [00:00<01:09,  6.75it/s]"
          ],
          "name": "stderr"
        },
        {
          "output_type": "stream",
          "text": [
            "\n",
            "Test set: Average loss: 0.0773, Accuracy: 9734/10000 (97.34%)\n",
            "\n",
            "Epoch-13 lr: 0.001\n"
          ],
          "name": "stdout"
        },
        {
          "output_type": "stream",
          "text": [
            "loss=0.33482155203819275 batch_id=468: 100%|██████████| 469/469 [01:11<00:00,  6.54it/s]\n"
          ],
          "name": "stderr"
        },
        {
          "output_type": "stream",
          "text": [
            "\n",
            "Test set: Average loss: 0.0770, Accuracy: 9739/10000 (97.39%)\n",
            "\n",
            "Epoch-14 lr: 0.001\n"
          ],
          "name": "stdout"
        }
      ]
    }
  ]
}